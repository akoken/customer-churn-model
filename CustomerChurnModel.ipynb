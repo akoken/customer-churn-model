{
  "cells": [
    {
      "metadata": {
        "id": "mFlBFU9H1alK",
        "colab_type": "code",
        "colab": {
          "base_uri": "https://localhost:8080/",
          "height": 34
        },
        "outputId": "9d18bc2c-4028-4430-b8ee-bdd553276413",
        "trusted": true
      },
      "cell_type": "code",
      "source": "import tensorflow as tf\nimport keras\nimport numpy as np\nimport pandas as pd\nimport matplotlib.pyplot as plt",
      "execution_count": null,
      "outputs": []
    },
    {
      "metadata": {
        "id": "Q2k45JCP7X6x",
        "colab_type": "code",
        "colab": {},
        "trusted": true
      },
      "cell_type": "code",
      "source": "dataset = pd.read_csv('Churn_Modelling.csv')\nX = dataset.iloc[:, 3:13].values\ny = dataset.iloc[:, 13].values",
      "execution_count": null,
      "outputs": []
    },
    {
      "metadata": {
        "id": "1dgnAjMZAElZ",
        "colab_type": "code",
        "colab": {},
        "trusted": true
      },
      "cell_type": "code",
      "source": "from sklearn.preprocessing import LabelEncoder, OneHotEncoder",
      "execution_count": null,
      "outputs": []
    },
    {
      "metadata": {
        "id": "3ANlBI_I_fTt",
        "colab_type": "code",
        "colab": {},
        "trusted": true
      },
      "cell_type": "code",
      "source": "#Encode Country\nlabelencoder_X_1 = LabelEncoder()\nX[:, 1] = labelencoder_X_1.fit_transform(X[:, 1])\n\n#Encode Gender\nlabelencoder_X_2 = LabelEncoder()\nX[:, 2] = labelencoder_X_2.fit_transform(X[:, 2])\n\n#Categorical Encoding (Country)\nonehotencoder = OneHotEncoder(categorical_features = [1])\nX = onehotencoder.fit_transform(X).toarray()\n\n#Remove one column in order to prevent dummy variable trap\nX = X[:, 1:]",
      "execution_count": null,
      "outputs": []
    },
    {
      "metadata": {
        "id": "a_Rb1X4q7tgw",
        "colab_type": "code",
        "colab": {},
        "trusted": true
      },
      "cell_type": "code",
      "source": "# Splitting the dataset into the Training set and Test set\nfrom sklearn.model_selection import train_test_split\nX_train, X_test, y_train, y_test = train_test_split(X, y, test_size = 0.2, random_state = 0)",
      "execution_count": null,
      "outputs": []
    },
    {
      "metadata": {
        "id": "VNlfq0ZrCi4R",
        "colab_type": "code",
        "colab": {},
        "trusted": true
      },
      "cell_type": "code",
      "source": "from keras.models import Sequential\nfrom keras.layers import Dense\nfrom keras.layers import Dropout",
      "execution_count": null,
      "outputs": []
    },
    {
      "metadata": {
        "id": "0whOER7h8Gf4",
        "colab_type": "code",
        "colab": {},
        "trusted": true
      },
      "cell_type": "code",
      "source": "# Feature Scaling\nfrom sklearn.preprocessing import StandardScaler\nsc = StandardScaler()\nX_train = sc.fit_transform(X_train)\nX_test = sc.transform(X_test)",
      "execution_count": null,
      "outputs": []
    },
    {
      "metadata": {
        "id": "B6iuqrYUDxsE",
        "colab_type": "code",
        "colab": {},
        "trusted": true
      },
      "cell_type": "code",
      "source": "#Initialize Neural Network\nmodel = Sequential()",
      "execution_count": null,
      "outputs": []
    },
    {
      "metadata": {
        "id": "aicBqnHiGW4q",
        "colab_type": "code",
        "colab": {},
        "trusted": true
      },
      "cell_type": "code",
      "source": "#Adding input layer and the first hidden layer\nmodel.add(Dense(output_dim = 16, init= 'uniform', activation = 'relu', input_dim = 11))",
      "execution_count": null,
      "outputs": []
    },
    {
      "metadata": {
        "id": "8rEIuHQtgrf7",
        "colab_type": "code",
        "colab": {},
        "trusted": true
      },
      "cell_type": "code",
      "source": "#Adding second hidden layer\nmodel.add(Dense(output_dim = 16, init= 'uniform', activation = 'relu'))",
      "execution_count": null,
      "outputs": []
    },
    {
      "metadata": {
        "id": "y__lAJ35hmmd",
        "colab_type": "code",
        "colab": {},
        "trusted": true
      },
      "cell_type": "code",
      "source": "#Adding the output layer\nmodel.add(Dense(output_dim = 1, init= 'uniform', activation = 'sigmoid'))",
      "execution_count": null,
      "outputs": []
    },
    {
      "metadata": {
        "id": "TV8jG7cniZeq",
        "colab_type": "code",
        "colab": {},
        "trusted": true
      },
      "cell_type": "code",
      "source": "#Compiling the ANN\nmodel.compile(optimizer = 'adam', loss = 'binary_crossentropy', metrics = ['accuracy'])",
      "execution_count": null,
      "outputs": []
    },
    {
      "metadata": {
        "id": "u98B3jjOj5wC",
        "colab_type": "code",
        "colab": {},
        "trusted": true
      },
      "cell_type": "code",
      "source": "#Making the predictions and evaluating the model\nmodel.fit(X_train, y_train, batch_size = 10, nb_epoch = 100)",
      "execution_count": null,
      "outputs": []
    },
    {
      "metadata": {
        "id": "qN2siarS8KP5",
        "colab_type": "code",
        "colab": {},
        "trusted": true
      },
      "cell_type": "code",
      "source": "# Predicting the Test set results\ny_pred = model.predict(X_test)",
      "execution_count": null,
      "outputs": []
    },
    {
      "metadata": {
        "id": "WuFVR2qp8OCb",
        "colab_type": "code",
        "colab": {
          "base_uri": "https://localhost:8080/",
          "height": 51
        },
        "outputId": "e5decfa1-9b44-4505-e475-6177abdd7126",
        "trusted": true
      },
      "cell_type": "code",
      "source": "# Accuracy\nscore = model.evaluate(X_test, y_test, verbose=0)\nprint('Test loss:', score[0])\nprint('Test accuracy:', score[1])",
      "execution_count": null,
      "outputs": []
    },
    {
      "metadata": {
        "id": "xdQ3H4Eyp0Ip",
        "colab_type": "code",
        "colab": {
          "base_uri": "https://localhost:8080/",
          "height": 71
        },
        "outputId": "9b32a7aa-da63-4843-85c9-03ca25a7c93d",
        "trusted": true
      },
      "cell_type": "code",
      "source": "#Predict with new data\nX_new = np.array([[0, 0, 600, 1, 40, 3, 60000, 2, 1, 1, 50000]])\nX_new = sc.transform(X_new)\ny_new = model.predict(X_new)",
      "execution_count": null,
      "outputs": []
    },
    {
      "metadata": {
        "id": "xF-DjSMvrxCv",
        "colab_type": "code",
        "colab": {
          "base_uri": "https://localhost:8080/",
          "height": 34
        },
        "outputId": "783a6c74-098e-4f90-91a5-12503b65463f",
        "trusted": true
      },
      "cell_type": "code",
      "source": "#Show the inputs and predicted outputs\nfor i in range(len(X_new)):\n\tprint(\"Predicted=%s, Result=%s\" % (y_new[i], y_new[i] > 0.5))",
      "execution_count": null,
      "outputs": []
    }
  ],
  "metadata": {
    "colab": {
      "name": "Deep Learning Part1.ipynb",
      "version": "0.3.2",
      "provenance": [],
      "collapsed_sections": []
    },
    "kernelspec": {
      "name": "python3",
      "display_name": "Python 3",
      "language": "python"
    },
    "accelerator": "GPU",
    "language_info": {
      "mimetype": "text/x-python",
      "nbconvert_exporter": "python",
      "name": "python",
      "pygments_lexer": "ipython3",
      "version": "3.5.4",
      "file_extension": ".py",
      "codemirror_mode": {
        "version": 3,
        "name": "ipython"
      }
    }
  },
  "nbformat": 4,
  "nbformat_minor": 1
}